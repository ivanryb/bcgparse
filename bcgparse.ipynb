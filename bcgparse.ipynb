{
 "cells": [
  {
   "cell_type": "code",
   "execution_count": 1,
   "metadata": {},
   "outputs": [],
   "source": [
    "from lxml import html\n",
    "from requests import get\n",
    "from pprint import pprint"
   ]
  },
  {
   "cell_type": "code",
   "execution_count": 2,
   "metadata": {},
   "outputs": [],
   "source": [
    "header= {'User-Agent':'Mozilla/5.0 (Macintosh; Intel Mac OS X 10_15_6) AppleWebKit/537.36 (KHTML, like Gecko) Chrome/88.0.4324.146 Safari/537.36'}"
   ]
  },
  {
   "cell_type": "code",
   "execution_count": 6,
   "metadata": {},
   "outputs": [
    {
     "name": "stdout",
     "output_type": "stream",
     "text": [
      "[]\n"
     ]
    }
   ],
   "source": [
    "def request_to_yandex(str):\n",
    "    response = get('https://yandex.ru/search/', params={'text':str}, headers=header)\n",
    "    \n",
    "    root = html.fromstring(response.text)\n",
    "    result = root.xpath(\"//a[contains(@class, 'link_cropped_no')]/@href | //a[contains(@class, 'organic__url_type_multiline')]/@href\")\n",
    "    return result\n",
    "\n",
    "result = request_to_yandex('pizza')\n",
    "pprint(result)"
   ]
  },
  {
   "cell_type": "code",
   "execution_count": 10,
   "metadata": {},
   "outputs": [
    {
     "name": "stdout",
     "output_type": "stream",
     "text": [
      "https://yandex.ru/showcaptcha?cc=1&retpath=https%3A//yandex.ru/search%3Ftext%3Dtiger_870002935f8f276db88cf24eda1e080f&t=0/1612545134/2094f24c0a924688a6e3b278ce0cebe8&s=9d4b34f3b37c943bc7b13fa6d5a55ada\n",
      "[]\n"
     ]
    }
   ],
   "source": [
    "header= {'User-Agent':'Mozilla/5.0 (Windows NT 10.0; Win64; x64) AppleWebKit/537.36 (KHTML, like Gecko) Chrome/80.0.3987.163 Safari/537.36'}\n",
    "\n",
    "def request_to_yandex(str):\n",
    "    response = get('https://yandex.ru/search/',\n",
    "                   params={'text':str},\n",
    "                   headers = header\n",
    "                   )\n",
    "    print(response.url)\n",
    "    root = html.fromstring(response.text)\n",
    "    result = []\n",
    "    items = root.xpath(\"//li[@class='serp-item']\")\n",
    "\n",
    "    for item in items:\n",
    "        info = {}\n",
    "        link = item.xpath(\".//a[contains(@class,'link_cropped_no')]/@href | .//a[contains(@class,'organic__url_type_multiline')]/@href\")\n",
    "        name = item.xpath(\".//div[@class='organic__url-text']//text()\")\n",
    "        if link:\n",
    "            info['link'] = link\n",
    "            info['name'] = name\n",
    "        else:\n",
    "            continue\n",
    "        result.append(info)\n",
    "    return result\n",
    "\n",
    "result = request_to_yandex('tiger')\n",
    "pprint(result)"
   ]
  },
  {
   "cell_type": "code",
   "execution_count": null,
   "metadata": {},
   "outputs": [],
   "source": []
  }
 ],
 "metadata": {
  "kernelspec": {
   "display_name": "Python 3",
   "language": "python",
   "name": "python3"
  },
  "language_info": {
   "codemirror_mode": {
    "name": "ipython",
    "version": 3
   },
   "file_extension": ".py",
   "mimetype": "text/x-python",
   "name": "python",
   "nbconvert_exporter": "python",
   "pygments_lexer": "ipython3",
   "version": "3.7.6"
  }
 },
 "nbformat": 4,
 "nbformat_minor": 4
}
